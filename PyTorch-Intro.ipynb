{
 "cells": [
  {
   "cell_type": "code",
   "execution_count": 37,
   "metadata": {},
   "outputs": [],
   "source": [
    "import numpy as np\n",
    "\n",
    "import time\n",
    "import datetime\n",
    "import torch\n",
    "import torch.nn as nn\n",
    "import torchvision.datasets as dsets \n",
    "import torchvision.transforms as transforms\n",
    "from torch.autograd import Variable\n",
    "from torch.utils.data import DataLoader"
   ]
  },
  {
   "cell_type": "code",
   "execution_count": 12,
   "metadata": {
    "scrolled": true
   },
   "outputs": [
    {
     "name": "stdout",
     "output_type": "stream",
     "text": [
      "Downloading http://yann.lecun.com/exdb/mnist/train-images-idx3-ubyte.gz\n",
      "Downloading http://yann.lecun.com/exdb/mnist/train-labels-idx1-ubyte.gz\n",
      "Downloading http://yann.lecun.com/exdb/mnist/t10k-images-idx3-ubyte.gz\n",
      "Downloading http://yann.lecun.com/exdb/mnist/t10k-labels-idx1-ubyte.gz\n",
      "Processing...\n",
      "Done!\n"
     ]
    }
   ],
   "source": [
    "train_dataset = dsets.MNIST(root ='./data',  \n",
    "                            train = True,  \n",
    "                            transform = transforms.ToTensor(), \n",
    "                            download = True)\n",
    "  \n",
    "test_dataset = dsets.MNIST(root ='./data',  \n",
    "                           train = False,  \n",
    "                           transform = transforms.ToTensor(),\n",
    "                           download = True)"
   ]
  },
  {
   "cell_type": "code",
   "execution_count": 24,
   "metadata": {},
   "outputs": [],
   "source": [
    "train_loader = DataLoader(dataset=train_dataset, \n",
    "                          batch_size=batch_size, \n",
    "                          shuffle=True,\n",
    "                          num_workers=n_cpu)"
   ]
  },
  {
   "cell_type": "code",
   "execution_count": 25,
   "metadata": {},
   "outputs": [],
   "source": [
    "test_loader = DataLoader(dataset = test_dataset,  \n",
    "                         batch_size = batch_size,  \n",
    "                         shuffle = False,\n",
    "                         num_workers=1) "
   ]
  },
  {
   "cell_type": "markdown",
   "metadata": {},
   "source": [
    "### Declare variables for hyper parameters"
   ]
  },
  {
   "cell_type": "code",
   "execution_count": 23,
   "metadata": {},
   "outputs": [],
   "source": [
    "input_size = 784\n",
    "num_classes = 10\n",
    "num_epochs = 5\n",
    "batch_size = 100\n",
    "learning_rate = 0.001\n",
    "n_cpu = 8 # number of logical cpu"
   ]
  },
  {
   "cell_type": "markdown",
   "metadata": {},
   "source": [
    "### Check if your environment allows to use GPU"
   ]
  },
  {
   "cell_type": "code",
   "execution_count": 33,
   "metadata": {},
   "outputs": [],
   "source": [
    "cuda = True if torch.cuda.is_available() else False"
   ]
  },
  {
   "cell_type": "markdown",
   "metadata": {},
   "source": [
    "### Create your own model"
   ]
  },
  {
   "cell_type": "code",
   "execution_count": 31,
   "metadata": {},
   "outputs": [],
   "source": [
    "class LogisticRegression(nn.Module):\n",
    "    def __init__(self, input_size, num_classes):\n",
    "        super(LogisticRegression, self).__init__()\n",
    "        self.linear = nn.Linear(input_size, num_classes)\n",
    "    \n",
    "    def forward(self, x):\n",
    "        predict = self.linear(x)\n",
    "        return predict"
   ]
  },
  {
   "cell_type": "markdown",
   "metadata": {},
   "source": [
    "### Initialize the model and setup loss function and optimizer"
   ]
  },
  {
   "cell_type": "code",
   "execution_count": 36,
   "metadata": {},
   "outputs": [
    {
     "name": "stdout",
     "output_type": "stream",
     "text": [
      "No cuda device is available!\n"
     ]
    }
   ],
   "source": [
    "model = LogisticRegression(input_size, num_classes)\n",
    "if cuda:\n",
    "    model.cuda()\n",
    "    print(\"GPU computation is enabled!\")\n",
    "else:\n",
    "    print(\"No cuda device is available!\")\n",
    "\n",
    "# Loss Function\n",
    "criterion = nn.CrossEntropyLoss()\n",
    "\n",
    "# Stochastic Gradient Descent\n",
    "optimizer = torch.optim.SGD(model.parameters(), lr = learning_rate)"
   ]
  },
  {
   "cell_type": "markdown",
   "metadata": {},
   "source": [
    "### Training"
   ]
  },
  {
   "cell_type": "code",
   "execution_count": 41,
   "metadata": {},
   "outputs": [
    {
     "name": "stdout",
     "output_type": "stream",
     "text": [
      "Epoch: [ 1/ 5], Step: [ 100/ 600], Loss: 2.0822, ETA: 0:00:17.487045\n",
      "Epoch: [ 1/ 5], Step: [ 200/ 600], Loss: 2.0193, ETA: 0:00:22.046426\n",
      "Epoch: [ 1/ 5], Step: [ 300/ 600], Loss: 1.9362, ETA: 0:00:09.769647\n",
      "Epoch: [ 1/ 5], Step: [ 400/ 600], Loss: 1.8230, ETA: 0:00:13.985098\n",
      "Epoch: [ 1/ 5], Step: [ 500/ 600], Loss: 1.8480, ETA: 0:00:12.419421\n",
      "Epoch: [ 1/ 5], Step: [ 600/ 600], Loss: 1.6710, ETA: 0:00:02.050491\n",
      "Epoch: [ 2/ 5], Step: [ 100/ 600], Loss: 1.6701, ETA: 0:00:08.021097\n",
      "Epoch: [ 2/ 5], Step: [ 200/ 600], Loss: 1.5882, ETA: 0:00:23.764249\n",
      "Epoch: [ 2/ 5], Step: [ 300/ 600], Loss: 1.5410, ETA: 0:00:07.279833\n",
      "Epoch: [ 2/ 5], Step: [ 400/ 600], Loss: 1.5871, ETA: 0:00:13.945396\n",
      "Epoch: [ 2/ 5], Step: [ 500/ 600], Loss: 1.3408, ETA: 0:00:20.238245\n",
      "Epoch: [ 2/ 5], Step: [ 600/ 600], Loss: 1.4804, ETA: 0:00:01.476679\n",
      "Epoch: [ 3/ 5], Step: [ 100/ 600], Loss: 1.3846, ETA: 0:00:11.906948\n",
      "Epoch: [ 3/ 5], Step: [ 200/ 600], Loss: 1.3724, ETA: 0:00:10.293142\n",
      "Epoch: [ 3/ 5], Step: [ 300/ 600], Loss: 1.3360, ETA: 0:00:14.649972\n",
      "Epoch: [ 3/ 5], Step: [ 400/ 600], Loss: 1.2769, ETA: 0:00:09.173647\n",
      "Epoch: [ 3/ 5], Step: [ 500/ 600], Loss: 1.2524, ETA: 0:00:06.833942\n",
      "Epoch: [ 3/ 5], Step: [ 600/ 600], Loss: 1.2539, ETA: 0:00:01.027963\n",
      "Epoch: [ 4/ 5], Step: [ 100/ 600], Loss: 1.2420, ETA: 0:00:09.779132\n",
      "Epoch: [ 4/ 5], Step: [ 200/ 600], Loss: 1.2587, ETA: 0:00:04.540449\n",
      "Epoch: [ 4/ 5], Step: [ 300/ 600], Loss: 1.1422, ETA: 0:00:09.540585\n",
      "Epoch: [ 4/ 5], Step: [ 400/ 600], Loss: 1.1687, ETA: 0:00:03.562798\n",
      "Epoch: [ 4/ 5], Step: [ 500/ 600], Loss: 1.0674, ETA: 0:00:07.715121\n",
      "Epoch: [ 4/ 5], Step: [ 600/ 600], Loss: 1.0933, ETA: 0:00:00.478301\n",
      "Epoch: [ 5/ 5], Step: [ 100/ 600], Loss: 1.0147, ETA: 0:00:04.837632\n",
      "Epoch: [ 5/ 5], Step: [ 200/ 600], Loss: 1.0377, ETA: 0:00:03.890871\n",
      "Epoch: [ 5/ 5], Step: [ 300/ 600], Loss: 0.9900, ETA: 0:00:01.841464\n",
      "Epoch: [ 5/ 5], Step: [ 400/ 600], Loss: 0.9147, ETA: 0:00:00.497671\n",
      "Epoch: [ 5/ 5], Step: [ 500/ 600], Loss: 1.0372, ETA: 0:00:00.449145\n",
      "Epoch: [ 5/ 5], Step: [ 600/ 600], Loss: 0.8968, ETA: 0:00:00.000703\n"
     ]
    }
   ],
   "source": [
    "prev_time = time.time()\n",
    "for epoch in range(num_epochs): \n",
    "    for i, (images, labels) in enumerate(train_loader):\n",
    "        \n",
    "        # transform \n",
    "        images = Variable(images.view(-1, 28 * 28)) \n",
    "        labels = Variable(labels)\n",
    "\n",
    "        # Forward + Backward + Optimize\n",
    "        optimizer.zero_grad()\n",
    "        \n",
    "        # forward pass\n",
    "        outputs = model(images)\n",
    "        \n",
    "        # compute batch loss\n",
    "        loss = criterion(outputs, labels)\n",
    "        \n",
    "        # backpropagation\n",
    "        loss.backward()\n",
    "        \n",
    "        # optimize\n",
    "        optimizer.step() \n",
    "\n",
    "        batches_done = epoch * len(train_loader) + i\n",
    "        batches_left = num_epochs * len(train_loader) - batches_done\n",
    "        time_left = datetime.timedelta(seconds=batches_left * (time.time() - prev_time))\n",
    "        prev_time = time.time()\n",
    "        \n",
    "        if (i + 1) % 100 == 0: \n",
    "            print('Epoch: [% d/% d], Step: [% d/% d], Loss: %.4f, ETA: %s'\n",
    "                  % (epoch + 1, num_epochs, i + 1, \n",
    "                     len(train_dataset) // batch_size, loss.item(), time_left))"
   ]
  },
  {
   "cell_type": "code",
   "execution_count": 30,
   "metadata": {},
   "outputs": [
    {
     "name": "stdout",
     "output_type": "stream",
     "text": [
      "Accuracy of the model on the 10000 test images:  83 %\n"
     ]
    }
   ],
   "source": [
    "correct = 0\n",
    "total = 0\n",
    "for images, labels in test_loader: \n",
    "    images = Variable(images.view(-1, 28 * 28)) \n",
    "    outputs = model(images) \n",
    "    _, predicted = torch.max(outputs.data, 1) \n",
    "    total += labels.size(0) \n",
    "    correct += (predicted == labels).sum() \n",
    "  \n",
    "print('Accuracy of the model on the 10000 test images: % d %%' % ( \n",
    "            100 * correct / total)) "
   ]
  },
  {
   "cell_type": "markdown",
   "metadata": {},
   "source": [
    "Ref: https://www.geeksforgeeks.org/identifying-handwritten-digits-using-logistic-regression-pytorch/"
   ]
  }
 ],
 "metadata": {
  "kernelspec": {
   "display_name": "Python 3",
   "language": "python",
   "name": "python3"
  },
  "language_info": {
   "codemirror_mode": {
    "name": "ipython",
    "version": 3
   },
   "file_extension": ".py",
   "mimetype": "text/x-python",
   "name": "python",
   "nbconvert_exporter": "python",
   "pygments_lexer": "ipython3",
   "version": "3.7.2"
  }
 },
 "nbformat": 4,
 "nbformat_minor": 2
}
